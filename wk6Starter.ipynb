{
  "nbformat": 4,
  "nbformat_minor": 0,
  "metadata": {
    "colab": {
      "provenance": [],
      "include_colab_link": true
    },
    "kernelspec": {
      "name": "python3",
      "display_name": "Python 3"
    },
    "language_info": {
      "name": "python"
    }
  },
  "cells": [
    {
      "cell_type": "markdown",
      "metadata": {
        "id": "view-in-github",
        "colab_type": "text"
      },
      "source": [
        "<a href=\"https://colab.research.google.com/github/hx2406/hw1/blob/main/wk6Starter.ipynb\" target=\"_parent\"><img src=\"https://colab.research.google.com/assets/colab-badge.svg\" alt=\"Open In Colab\"/></a>"
      ]
    },
    {
      "cell_type": "code",
      "execution_count": 12,
      "metadata": {
        "id": "Jx7tQYA0d1Ly",
        "outputId": "fadcc131-db47-4524-b18c-0f3128d7b77d",
        "colab": {
          "base_uri": "https://localhost:8080/"
        }
      },
      "outputs": [
        {
          "output_type": "stream",
          "name": "stderr",
          "text": [
            "\r[*********************100%***********************]  1 of 1 completed"
          ]
        },
        {
          "output_type": "stream",
          "name": "stdout",
          "text": [
            "GS\n"
          ]
        },
        {
          "output_type": "stream",
          "name": "stderr",
          "text": [
            "\n",
            "[*********************100%***********************]  1 of 1 completed"
          ]
        },
        {
          "output_type": "stream",
          "name": "stdout",
          "text": [
            "<class 'pandas.core.frame.DataFrame'>\n",
            "[[-0.01776156]\n",
            " [-0.01717924]\n",
            " [ 0.09107655]\n",
            " ...\n",
            " [-0.03985063]\n",
            " [ 0.0205286 ]\n",
            " [-0.04144539]]\n"
          ]
        },
        {
          "output_type": "stream",
          "name": "stderr",
          "text": [
            "\n"
          ]
        }
      ],
      "source": [
        "import yfinance as yf\n",
        "import pandas as pd\n",
        "\n",
        "pd.options.display.float_format = '{:.4f}'.format\n",
        "\n",
        "# Part 1: create function to call yahoo finance to get prices and return the returns\n",
        "# for a given time period (default is start=\"2020-01-01\", end=\"2025-02-01\") - 2 points\n",
        "def YahooData2returns(symbol,start=\"2020-01-01\", end=\"2025-02-01\"):\n",
        "  prices = get_stock_data(symbol,start,end)\n",
        "  returns = get_returns(prices.values)\n",
        "\n",
        "  return(returns)\n",
        "    # YahooData = data from Yahoo Finance\n",
        "    # Steps:\n",
        "    # Extract 'Adj Close' column\n",
        "    # Extract values from 'Adj Close' column to transform to a simple array\n",
        "    # Calculate and return the lagged returns\n",
        "\n",
        "\n",
        "def get_stock_data(symbol,start=\"2020-01-01\", end=\"2025-02-01\"):\n",
        "    print(symbol)\n",
        "    data = yf.download(symbol, start, end)\n",
        "    data = yf.download(symbol)\n",
        "    prices = data['Close']\n",
        "    return prices\n",
        "\n",
        "# Example usage\n",
        "prices = get_stock_data('GS')\n",
        "print(type(prices))\n",
        "pricevec = prices.values\n",
        "\n",
        "\n",
        "def get_returns(pricevec):\n",
        "    n = len(pricevec)\n",
        "    ratiovec = pricevec[1:n] / pricevec[:n-1]\n",
        "    returns = ratiovec - 1  # assuming the return calculation is (price_t / price_t-1) - 1\n",
        "    return returns\n",
        "\n",
        "# Example of using get_returns\n",
        "returns = get_returns(pricevec)\n",
        "print(returns)\n"
      ]
    },
    {
      "cell_type": "code",
      "source": [],
      "metadata": {
        "id": "6QcdQkA5tRHR"
      },
      "execution_count": null,
      "outputs": []
    },
    {
      "cell_type": "code",
      "execution_count": 2,
      "metadata": {
        "id": "1R3_8XRRISt0",
        "outputId": "83f98842-70bf-482d-a19d-20c7a325343c",
        "colab": {
          "base_uri": "https://localhost:8080/",
          "height": 448
        }
      },
      "outputs": [
        {
          "output_type": "stream",
          "name": "stdout",
          "text": [
            "-4.207460608329342\n"
          ]
        },
        {
          "output_type": "display_data",
          "data": {
            "text/plain": [
              "<Figure size 640x480 with 1 Axes>"
            ],
            "image/png": "[encoded data removed]"
          },
          "metadata": {}
        }
      ],
      "source": [
        "import numpy as np\n",
        "import matplotlib.pyplot as plt\n",
        "from scipy.stats import norm\n",
        "\n",
        "# Part 2 - given a set of returns calculate the VaR and allow for\n",
        "# the notional amount to be an input variable \"principal with\" a default value of 1\n",
        "# 2 points\n",
        "\n",
        "def VaR(r, confidence=.95, principal = 1):\n",
        "    out = principal * np.percentile(r, 100 * (1 - confidence))\n",
        "    # This function returns the left tail value and displays a histogram\n",
        "    # r = a vector of stock returns\n",
        "    # principal = investment initial value\n",
        "    # <your work>\n",
        "    # out = principal * positively stated value of r at the 1-alpha percentile\n",
        "    return (out)\n",
        "\n",
        "var = VaR(returns, 0.975, 100)\n",
        "print(var)\n",
        "\n",
        "plt.hist(returns, bins=50, alpha=0.75)\n",
        "plt.show()\n"
      ]
    },
    {
      "cell_type": "code",
      "source": [
        "# Partial demonstration\n",
        "def percent_var(r, confidence):\n",
        "    # This function returns the left tail value and displays a histogram\n",
        "    # r = a vector of stock percent returns\n",
        "    # out = positively stated value of r at the 1-alpha percentile\n",
        "\n",
        "    plt.hist(r, bins=50, alpha=0.75)\n",
        "    plt.show()\n",
        "\n",
        "    out = np.percentile(r, (1 - confidence) * 100)  # Calculate the percentile\n",
        "    return abs(out)  # Return the absolute value of the calculated percentile\n",
        "\n",
        "# Example tools: percentile\n",
        "returns = np.random.normal(0, 1, 10000)\n",
        "print(np.percentile(returns, 97.72))\n",
        "\n",
        "# Unit test\n",
        "r = np.random.normal(0.05, 0.03, 1000000)\n",
        "probability2SD = norm.cdf(2)  # Probability under normal curve within 2 standard deviations\n",
        "\n",
        "my_confidence = probability2SD\n",
        "my_percent_var = percent_var(r, my_confidence )\n",
        "print(np.round(my_percent_var, 2) == 0.01)"
      ],
      "metadata": {
        "id": "nBG5PjxJteR3",
        "outputId": "16ee78d1-a192-478b-ead2-84bee17fb926",
        "colab": {
          "base_uri": "https://localhost:8080/",
          "height": 466
        }
      },
      "execution_count": 3,
      "outputs": [
        {
          "output_type": "stream",
          "name": "stdout",
          "text": [
            "2.0099109762672294\n"
          ]
        },
        {
          "output_type": "display_data",
          "data": {
            "text/plain": [
              "<Figure size 640x480 with 1 Axes>"
            ],
            "image/png": "[encoded data removed]"
          },
          "metadata": {}
        },
        {
          "output_type": "stream",
          "name": "stdout",
          "text": [
            "True\n"
          ]
        }
      ]
    },
    {
      "cell_type": "code",
      "execution_count": 11,
      "metadata": {
        "outputId": "5155e5b5-ab15-44d6-d7dd-cde2aefec28d",
        "colab": {
          "base_uri": "https://localhost:8080/"
        },
        "id": "s9go6Gfbtivs"
      },
      "outputs": [
        {
          "output_type": "stream",
          "name": "stdout",
          "text": [
            "ES with confidence: True\n",
            "ES with VaR: True\n"
          ]
        }
      ],
      "source": [
        "import numpy as np\n",
        "\n",
        "# Part 3 - given a set of returns calculate the ES and allow for\n",
        "# the notional amount to be an input variable \"principal with\" a default value of 1\n",
        "# 2 points\n",
        "\n",
        "def ES(losses, confidence=None, VaR=None, use_PnL=False):\n",
        "    \"\"\"\n",
        "    Calculate the Expected Shortfall (ES) of losses.\n",
        "\n",
        "    losses: array of positively stated loss values\n",
        "    confidence: risk level (e.g., 0.99 for 99%)\n",
        "    VaR: dollar value specifying the VaR threshold\n",
        "\n",
        "    return Expected Shortfall as the average of losses exceeding VaR\n",
        "    \"\"\"\n",
        "    if VaR is None:\n",
        "        # If VaR is not provided, determine VaR based on the confidence percentile\n",
        "        VaR = np.percentile(losses, 100 * confidence)\n",
        "\n",
        "    # Calculate ES as the average of losses exceeding the VaR threshold\n",
        "    es_value = np.mean(losses[losses > VaR])\n",
        "    return es_value\n",
        "\n",
        "# Unit test\n",
        "u = np.random.uniform(0, 100, 100000)\n",
        "\n",
        "# Test the ES function with an confidence of 0.8\n",
        "es_confidence = ES(losses=u, confidence=0.8)\n",
        "print('ES with confidence:', np.round(es_confidence, 0) == 90)\n",
        "\n",
        "# Test the ES function with a VaR of 80\n",
        "es_var = ES(losses=u, VaR=80)\n",
        "print('ES with VaR:', np.round(es_var, 0) == 90)\n",
        "\n",
        "\n"
      ]
    },
    {
      "cell_type": "code",
      "source": [
        "# Problem 4 - 2 points\n",
        "# Given a stock symbol get the returns and calculate the .99 %-ile VaR on a $1MM investment\n",
        "def VaRStock(symbol, confidence=.99, principal = 1000000,start=\"2020-01-01\", end=\"2025-02-01\"):\n",
        "\n",
        "  # Get prices using functions defined above above\n",
        "  returns = YahooData2returns(symbol,start,end)\n",
        "  print(returns)\n",
        "\n",
        "\n",
        "  # Feed returns into VaR function\n",
        "  var=VaR(returns, confidence, principal = 1)\n",
        "\n",
        "  return(var)\n",
        "  print(var)"
      ],
      "metadata": {
        "id": "oSaZgVYvtrdi"
      },
      "execution_count": 13,
      "outputs": []
    },
    {
      "cell_type": "code",
      "source": [
        "# Problem 5 - 2 points\n",
        "# Given a stock symbol get the returns and calculate the .975 %-ile ES (expected shortfall) on a $1MM investment\n",
        "\n",
        "# Get returns for stock using function above\n",
        "\n",
        "# Calculate .975 %-ile and seleect returns\n",
        "\n"
      ],
      "metadata": {
        "id": "d_liKM_cwvh5"
      },
      "execution_count": null,
      "outputs": []
    }
  ]
}